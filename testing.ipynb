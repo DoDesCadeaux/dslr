{
 "cells": [
  {
   "cell_type": "code",
   "outputs": [],
   "source": [
    "import numpy as np\n",
    "import matplotlib.pyplot as plt\n",
    "from sklearn.datasets import make_blobs"
   ],
   "metadata": {
    "collapsed": false,
    "ExecuteTime": {
     "end_time": "2024-08-29T10:12:38.722728Z",
     "start_time": "2024-08-29T10:12:37.965515Z"
    }
   },
   "id": "70b23b248e555a49",
   "execution_count": 1
  },
  {
   "cell_type": "code",
   "outputs": [
    {
     "name": "stdout",
     "output_type": "stream",
     "text": [
      "Dimensions de X: (100, 2)\n",
      "Dimensions de y: (100, 1)\n"
     ]
    },
    {
     "data": {
      "text/plain": "<Figure size 640x480 with 1 Axes>",
      "image/png": "[encoded data removed]"
     },
     "metadata": {},
     "output_type": "display_data"
    }
   ],
   "source": [
    "# Creation d'un dataset de 100 elements et de 2 colonnes/features\n",
    "X, y = make_blobs(n_samples=100, n_features=2, centers=2, random_state=0)\n",
    "y = y.reshape(y.shape[0], 1)\n",
    "\n",
    "print(f'Dimensions de X: {X.shape}')\n",
    "print(f'Dimensions de y: {y.shape}')\n",
    "\n",
    "plt.scatter(X[:, 0], X[:, 1], c=y, cmap='summer')\n",
    "plt.show()"
   ],
   "metadata": {
    "collapsed": false,
    "ExecuteTime": {
     "end_time": "2024-08-29T10:12:38.822332Z",
     "start_time": "2024-08-29T10:12:38.724606Z"
    }
   },
   "id": "34cdb4f62a453dad",
   "execution_count": 2
  },
  {
   "cell_type": "code",
   "outputs": [],
   "source": [
    "# Init parameter matrix W, matching features number\n",
    "\n",
    "def initialisation(X):\n",
    "\tW = np.random.randn(X.shape[1], 1)\n",
    "\tb = np.random.randn(1)\n",
    "\treturn W, b"
   ],
   "metadata": {
    "collapsed": false,
    "ExecuteTime": {
     "end_time": "2024-08-29T10:12:38.828808Z",
     "start_time": "2024-08-29T10:12:38.824064Z"
    }
   },
   "id": "352384436720c28d",
   "execution_count": 3
  },
  {
   "cell_type": "markdown",
   "source": [
    "### Modèle\n",
    "$F(Z) = X \\cdot W + b$\n",
    "\n",
    "### Fonction d'activation\n",
    "$A = \\frac{1}{1 + e^{-Z}}$"
   ],
   "metadata": {
    "collapsed": false
   },
   "id": "69ae0ba557f05829"
  },
  {
   "cell_type": "code",
   "outputs": [],
   "source": [
    "def model(X, W, b):\n",
    "\tZ = X.dot(W) + b\n",
    "\tA = 1 / (1 + np.exp(-Z))\n",
    "\treturn A"
   ],
   "metadata": {
    "collapsed": false,
    "ExecuteTime": {
     "end_time": "2024-08-29T10:12:38.835318Z",
     "start_time": "2024-08-29T10:12:38.830285Z"
    }
   },
   "id": "9c7b2f2454142f23",
   "execution_count": 4
  },
  {
   "cell_type": "code",
   "outputs": [
    {
     "data": {
      "text/plain": "(100, 1)"
     },
     "execution_count": 5,
     "metadata": {},
     "output_type": "execute_result"
    }
   ],
   "source": [
    "W, b = initialisation(X)\n",
    "A = model(X, W, b)\n",
    "A.shape"
   ],
   "metadata": {
    "collapsed": false,
    "ExecuteTime": {
     "end_time": "2024-08-29T10:12:38.846246Z",
     "start_time": "2024-08-29T10:12:38.840538Z"
    }
   },
   "id": "a6efe18b22581f51",
   "execution_count": 5
  },
  {
   "cell_type": "markdown",
   "source": [
    "## Fonction Coût\n",
    "\n",
    "$ \\mathcal{L} = -\\frac{1}{m} \\times \\sum_{i=1}^m y \\times log(A) + (1 - y) \\times log(1 - A)$\n"
   ],
   "metadata": {
    "collapsed": false
   },
   "id": "fa282a56e25a41bd"
  },
  {
   "cell_type": "code",
   "outputs": [],
   "source": [
    "def log_loss(A, y):\n",
    "\tm = len(y)\n",
    "\treturn 1/m * np.sum(-y * np.log(A) - (1 - y) * np.log(1 - A))"
   ],
   "metadata": {
    "collapsed": false,
    "ExecuteTime": {
     "end_time": "2024-08-29T10:12:38.852587Z",
     "start_time": "2024-08-29T10:12:38.847955Z"
    }
   },
   "id": "c00b4da91d50306b",
   "execution_count": 6
  },
  {
   "cell_type": "code",
   "outputs": [
    {
     "data": {
      "text/plain": "1.216169748345595"
     },
     "execution_count": 7,
     "metadata": {},
     "output_type": "execute_result"
    }
   ],
   "source": [
    "log_loss(A, y)"
   ],
   "metadata": {
    "collapsed": false,
    "ExecuteTime": {
     "end_time": "2024-08-29T10:12:38.858323Z",
     "start_time": "2024-08-29T10:12:38.854422Z"
    }
   },
   "id": "3cbbb8823ebc4ff4",
   "execution_count": 7
  },
  {
   "cell_type": "markdown",
   "source": [
    "### Gradients sur W\n",
    "\n",
    "$ \\begin{equation} W = W - \\alpha \\frac{\\partial \\mathcal{L}}{\\partial W} \\end{equation}$ \n",
    "\n",
    "On a alors\n",
    "\n",
    "$ \\begin{equation} \\left (\\frac{\\partial \\mathcal{L}}{\\partial W} = \\frac{1}{m} X^{T} \\cdot (A - y)  \\right) \\end{equation}$"
   ],
   "metadata": {
    "collapsed": false
   },
   "id": "2a8c08cd9b75d9dd"
  },
  {
   "cell_type": "markdown",
   "source": [
    "### Gradients sur b\n",
    "\n",
    "$ \\begin{equation} b = b - \\alpha \\frac{\\partial \\mathcal{L}}{\\partial b} \\end{equation}$\n",
    "\n",
    "On a alors\n",
    "$ \\begin{equation} \\left (\\frac{\\partial \\mathcal{L}}{\\partial b} = \\frac{1}{m} \\sum_{i=1}^m (A - y)  \\right) \\end{equation}$"
   ],
   "metadata": {
    "collapsed": false
   },
   "id": "dfeee763ef14de48"
  },
  {
   "cell_type": "code",
   "outputs": [],
   "source": [
    "def gradients(A, X, y):\n",
    "\tm = len(y)\n",
    "\tdW = 1 / m * np.dot(X.T, A - y)\n",
    "\tdb = 1 / m * np.sum(A - y)\n",
    "\t\n",
    "\treturn dW, db"
   ],
   "metadata": {
    "collapsed": false,
    "ExecuteTime": {
     "end_time": "2024-08-29T10:12:38.862812Z",
     "start_time": "2024-08-29T10:12:38.859905Z"
    }
   },
   "id": "f2075f26a756552f",
   "execution_count": 8
  },
  {
   "cell_type": "code",
   "outputs": [
    {
     "data": {
      "text/plain": "((2, 1), (), 0.15724868543829057)"
     },
     "execution_count": 9,
     "metadata": {},
     "output_type": "execute_result"
    }
   ],
   "source": [
    "dW, db = gradients(A, X, y)\n",
    "dW.shape, db.shape, db # Puisque db est un nbre reel, il n'a pas de shape"
   ],
   "metadata": {
    "collapsed": false,
    "ExecuteTime": {
     "end_time": "2024-08-29T10:12:38.868048Z",
     "start_time": "2024-08-29T10:12:38.864274Z"
    }
   },
   "id": "4508f955179eb46f",
   "execution_count": 9
  },
  {
   "cell_type": "code",
   "outputs": [],
   "source": [
    "def update(dW, db, W, b, learning_rate):\n",
    "\tW = W - learning_rate * dW\n",
    "\tb = b - learning_rate * db\n",
    "\treturn W, b"
   ],
   "metadata": {
    "collapsed": false,
    "ExecuteTime": {
     "end_time": "2024-08-29T10:12:38.871419Z",
     "start_time": "2024-08-29T10:12:38.869255Z"
    }
   },
   "id": "a4d6a24934e9d538",
   "execution_count": 10
  },
  {
   "cell_type": "code",
   "outputs": [],
   "source": [
    "def predict(X, W, b):\n",
    "\tA = model(X, W, b)\n",
    "\tprint(A)\n",
    "\treturn A >= 0.5"
   ],
   "metadata": {
    "collapsed": false,
    "ExecuteTime": {
     "end_time": "2024-08-29T10:12:38.874516Z",
     "start_time": "2024-08-29T10:12:38.872331Z"
    }
   },
   "id": "b0eec9f75113313b",
   "execution_count": 11
  },
  {
   "cell_type": "code",
   "outputs": [],
   "source": [
    "from sklearn.metrics import accuracy_score"
   ],
   "metadata": {
    "collapsed": false,
    "ExecuteTime": {
     "end_time": "2024-08-29T10:12:38.904366Z",
     "start_time": "2024-08-29T10:12:38.875503Z"
    }
   },
   "id": "9634e2667f13a8aa",
   "execution_count": 12
  },
  {
   "cell_type": "code",
   "outputs": [],
   "source": [
    "def perceptron(X, y, learning_rate=0.03, n_iter=1000):\n",
    "\tW_final, b_final = initialisation(X)\n",
    "\t\n",
    "\tLoss = []\n",
    "\t\n",
    "\tfor i in range(n_iter):\n",
    "\t\tA = model(X, W_final, b_final)\n",
    "\t\tLoss.append(log_loss(A, y))\n",
    "\t\tdW, db = gradients(A, X, y)\n",
    "\t\tW_final, b_final = update(dW, db, W_final, b_final, learning_rate)\n",
    "\t\t\n",
    "\ty_pred = predict(X, W_final, b_final)\n",
    "\tprint(f'Accuracy: {accuracy_score(y, y_pred)}')\n",
    "\t\n",
    "\tplt.plot(Loss)\n",
    "\tplt.show()\n",
    "\t\n",
    "\treturn W_final, b_final"
   ],
   "metadata": {
    "collapsed": false,
    "ExecuteTime": {
     "end_time": "2024-08-29T10:12:38.908209Z",
     "start_time": "2024-08-29T10:12:38.905152Z"
    }
   },
   "id": "7091d36ed58a7547",
   "execution_count": 13
  },
  {
   "cell_type": "code",
   "outputs": [
    {
     "name": "stdout",
     "output_type": "stream",
     "text": [
      "[[9.62963940e-01]\n",
      " [9.99421605e-01]\n",
      " [7.56907003e-05]\n",
      " [6.02109558e-01]\n",
      " [9.98050189e-01]\n",
      " [4.21676264e-01]\n",
      " [4.93033144e-03]\n",
      " [9.31216014e-01]\n",
      " [5.65819566e-03]\n",
      " [9.99806296e-01]\n",
      " [1.16451277e-03]\n",
      " [9.99279979e-01]\n",
      " [9.21692647e-05]\n",
      " [1.19203849e-03]\n",
      " [9.74458765e-01]\n",
      " [9.91580204e-01]\n",
      " [9.99984922e-01]\n",
      " [5.80680798e-03]\n",
      " [9.99409997e-01]\n",
      " [9.86039746e-01]\n",
      " [7.28099450e-04]\n",
      " [1.69152028e-03]\n",
      " [6.79990740e-01]\n",
      " [5.18115210e-05]\n",
      " [9.99471358e-01]\n",
      " [5.54739205e-04]\n",
      " [9.99884406e-01]\n",
      " [4.77186402e-06]\n",
      " [1.01577719e-03]\n",
      " [8.95689530e-01]\n",
      " [9.99977694e-01]\n",
      " [8.99335854e-04]\n",
      " [9.96863983e-01]\n",
      " [9.99977464e-01]\n",
      " [4.66475008e-01]\n",
      " [9.58251152e-03]\n",
      " [9.97754762e-01]\n",
      " [6.38216502e-01]\n",
      " [2.76773031e-01]\n",
      " [9.84717087e-01]\n",
      " [1.60816547e-01]\n",
      " [3.68461755e-05]\n",
      " [9.33752555e-07]\n",
      " [3.41406851e-02]\n",
      " [2.85388082e-01]\n",
      " [9.88965384e-01]\n",
      " [9.99977383e-01]\n",
      " [9.99986726e-01]\n",
      " [1.81183358e-04]\n",
      " [2.67416015e-05]\n",
      " [9.99862222e-01]\n",
      " [9.92549789e-01]\n",
      " [8.02627383e-06]\n",
      " [2.60332582e-04]\n",
      " [6.23147736e-01]\n",
      " [6.58329851e-04]\n",
      " [4.72974395e-01]\n",
      " [9.98132361e-01]\n",
      " [9.97689540e-01]\n",
      " [9.99996718e-01]\n",
      " [9.79332028e-01]\n",
      " [7.54982037e-03]\n",
      " [3.20217814e-05]\n",
      " [9.96331186e-01]\n",
      " [1.65805249e-05]\n",
      " [3.88284684e-01]\n",
      " [1.10418115e-02]\n",
      " [1.95000049e-01]\n",
      " [9.93284965e-01]\n",
      " [5.42725479e-02]\n",
      " [5.71506131e-02]\n",
      " [9.99875512e-01]\n",
      " [9.89923933e-01]\n",
      " [2.47778420e-03]\n",
      " [3.93386147e-01]\n",
      " [6.00983837e-03]\n",
      " [9.73296750e-01]\n",
      " [9.77294934e-01]\n",
      " [8.42964772e-03]\n",
      " [5.45817903e-04]\n",
      " [3.52309933e-01]\n",
      " [1.12772855e-02]\n",
      " [3.81840730e-05]\n",
      " [2.59213643e-03]\n",
      " [1.03169402e-01]\n",
      " [3.70955290e-04]\n",
      " [9.99567975e-01]\n",
      " [7.81096789e-05]\n",
      " [9.98796212e-01]\n",
      " [9.99550232e-01]\n",
      " [9.85302341e-01]\n",
      " [9.99919867e-01]\n",
      " [8.94955539e-01]\n",
      " [9.99989129e-01]\n",
      " [1.26631083e-02]\n",
      " [5.26765678e-05]\n",
      " [9.99999193e-01]\n",
      " [9.98989946e-01]\n",
      " [1.95518106e-03]\n",
      " [9.48215859e-01]]\n",
      "Accuracy: 0.94\n"
     ]
    },
    {
     "data": {
      "text/plain": "<Figure size 640x480 with 1 Axes>",
      "image/png": "[encoded data removed]"
     },
     "metadata": {},
     "output_type": "display_data"
    }
   ],
   "source": [
    "W_final, b_final = perceptron(X, y, 0.01, 100000)"
   ],
   "metadata": {
    "collapsed": false,
    "ExecuteTime": {
     "end_time": "2024-08-29T10:12:40.690356Z",
     "start_time": "2024-08-29T10:12:38.911821Z"
    }
   },
   "id": "46b0ee7c943fbe71",
   "execution_count": 14
  },
  {
   "cell_type": "code",
   "outputs": [
    {
     "data": {
      "text/plain": "<Figure size 640x480 with 1 Axes>",
      "image/png": "[encoded data removed]"
     },
     "metadata": {},
     "output_type": "display_data"
    }
   ],
   "source": [
    "new_search = np.array([2, 1])\n",
    "x0 = np.linspace(-1, 4, 100)\n",
    "x1 = (-W_final[0] * x0 - b_final) / W_final[1]\n",
    "plt.scatter(X[:, 0], X[:, 1], c=y, cmap='summer')\n",
    "plt.scatter(new_search[0], new_search[1], c='r')\n",
    "plt.plot(x0, x1, c='magenta', lw=3)\n",
    "plt.show()"
   ],
   "metadata": {
    "collapsed": false,
    "ExecuteTime": {
     "end_time": "2024-08-29T10:12:40.784412Z",
     "start_time": "2024-08-29T10:12:40.691019Z"
    }
   },
   "id": "954e4605183bfc85",
   "execution_count": 15
  },
  {
   "cell_type": "code",
   "outputs": [],
   "source": [],
   "metadata": {
    "collapsed": false,
    "ExecuteTime": {
     "end_time": "2024-08-29T10:12:40.787777Z",
     "start_time": "2024-08-29T10:12:40.785335Z"
    }
   },
   "id": "772410564c6c7c31",
   "execution_count": 15
  }
 ],
 "metadata": {
  "kernelspec": {
   "display_name": "Python 3",
   "language": "python",
   "name": "python3"
  },
  "language_info": {
   "codemirror_mode": {
    "name": "ipython",
    "version": 2
   },
   "file_extension": ".py",
   "mimetype": "text/x-python",
   "name": "python",
   "nbconvert_exporter": "python",
   "pygments_lexer": "ipython2",
   "version": "2.7.6"
  }
 },
 "nbformat": 4,
 "nbformat_minor": 5
}
